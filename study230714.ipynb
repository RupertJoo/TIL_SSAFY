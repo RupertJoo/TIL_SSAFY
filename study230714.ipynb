{
 "cells": [
  {
   "cell_type": "markdown",
   "metadata": {},
   "source": [
    "# 감자  \n",
    "1.  저장\n",
    "2.  조건\n",
    "3.  반복"
   ]
  },
  {
   "cell_type": "markdown",
   "metadata": {},
   "source": [
    "## 1. 저장  \n",
    "  \n",
    "변수: 하나의 값을 저장할 수 있는 저장 공간 \n",
    "\n",
    "대상  \n",
    "1. 숫자  \n",
    "    1.1 모든 숫자, 기본적인 연산이 가능하다\n",
    "2. 글자/문자  \n",
    "    2.1 모든 글자, 글자를 표현하기 위해서 따옴표('')를 사용한다.  \n",
    "3. True/False, 조건문·반복문에 사용한다. \n",
    "    3.1 300 > 200 => True  \n",
    "    3.2 151 == 161 => False  \n",
    "     "
   ]
  },
  {
   "cell_type": "code",
   "execution_count": null,
   "metadata": {},
   "outputs": [],
   "source": [
    "height = 171"
   ]
  },
  {
   "cell_type": "markdown",
   "metadata": {},
   "source": [
    "여러 값을 저장하려면?  \n",
    "list: 여러개의 연속된 값을 저장할 수 있는 공간(순차적이다)"
   ]
  },
  {
   "cell_type": "code",
   "execution_count": 7,
   "metadata": {},
   "outputs": [
    {
     "name": "stdout",
     "output_type": "stream",
     "text": [
      "['돼지불백', '지코바치밥', '설렁탕']\n",
      "지코바치밥 \n",
      "\n",
      "돼지불백\n",
      "지코바치밥\n",
      "설렁탕\n"
     ]
    }
   ],
   "source": [
    "lunch = ['돼지불백','지코바치밥','설렁탕']\n",
    "print(lunch)\n",
    "print(lunch[1],'\\n') #리스트를 포함한 파이썬의 인덱스는 0부터 시작한다.\n",
    "print(*(i for i in lunch),sep='\\n')"
   ]
  },
  {
   "cell_type": "markdown",
   "metadata": {},
   "source": [
    "Dictionary: value에 각각 key를 할당한 자료구조  \n",
    "dictionary에는 key:value 형식으로 기입한다"
   ]
  },
  {
   "cell_type": "code",
   "execution_count": 10,
   "metadata": {},
   "outputs": [
    {
     "name": "stdout",
     "output_type": "stream",
     "text": [
      "100000000 사이어인 True\n"
     ]
    }
   ],
   "source": [
    "kakarot = {\"power\":100000000, \"tribe\":\"사이어인\", \"isHero\":True} #dictionary에 들어갈 수 있는 value의 자료형에는 제한이 없다.\n",
    "print(kakarot[\"power\"], kakarot[\"tribe\"], kakarot['isHero'])"
   ]
  },
  {
   "cell_type": "markdown",
   "metadata": {},
   "source": [
    "조건문(conditional statements)  \"인생은 선택이다\""
   ]
  },
  {
   "cell_type": "code",
   "execution_count": 12,
   "metadata": {},
   "outputs": [
    {
     "name": "stdout",
     "output_type": "stream",
     "text": [
      "틀렸습니다\n"
     ]
    }
   ],
   "source": [
    "statement = [\"정답입니다\",\"틀렸습니다\"]\n",
    "isRight = True\n",
    "# isRight = False #이 주석을 해제할 경우 어떤 결과가 나오는지 확인해보세요\n",
    "if isRight: \n",
    "    print(statement[0])\n",
    "else:\n",
    "    print(statement[1])"
   ]
  },
  {
   "cell_type": "code",
   "execution_count": 29,
   "metadata": {},
   "outputs": [
    {
     "name": "stdout",
     "output_type": "stream",
     "text": [
      "대기미세먼지농도가 200 ppm으로 기준치 초과입니다(매우나쁨).\n",
      "가급적 외출을 삼가해주시고 마스크를 꼭 착용해주세요\n"
     ]
    }
   ],
   "source": [
    "densityPM = 200 #density of particular matter [ppm]\n",
    "valueCritical1 = 150\n",
    "valueCritical2 = 80\n",
    "if densityPM > valueCritical1:\n",
    "    print(f\"대기미세먼지농도가 {densityPM} ppm으로 기준치 초과입니다(매우나쁨).\", \"가급적 외출을 삼가해주시고 마스크를 꼭 착용해주세요\",sep ='\\n')\n",
    "elif valueCritical2 < densityPM <= valueCritical1: \n",
    "    print(f\"대기미세먼지농도가 {densityPM} ppm으로 기준치 초과입니다.(나쁨)\", \"외출 시 마스크를 착용해주세요\",sep ='\\n')\n",
    "else: \n",
    "    print(f\"대기미세먼지농도가 {densityPM} ppm으로 기준치 이하입니다.(나쁨)\", \"좋은 하루 되세요\",sep ='\\n')"
   ]
  },
  {
   "cell_type": "markdown",
   "metadata": {},
   "source": [
    "여기까지 오전! 깃허브에올림"
   ]
  }
 ],
 "metadata": {
  "kernelspec": {
   "display_name": "Python 3",
   "language": "python",
   "name": "python3"
  },
  "language_info": {
   "codemirror_mode": {
    "name": "ipython",
    "version": 3
   },
   "file_extension": ".py",
   "mimetype": "text/x-python",
   "name": "python",
   "nbconvert_exporter": "python",
   "pygments_lexer": "ipython3",
   "version": "3.9.13"
  },
  "orig_nbformat": 4
 },
 "nbformat": 4,
 "nbformat_minor": 2
}
