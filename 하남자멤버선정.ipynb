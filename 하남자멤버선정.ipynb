{
 "cells": [
  {
   "cell_type": "code",
   "execution_count": 1,
   "metadata": {},
   "outputs": [
    {
     "name": "stdout",
     "output_type": "stream",
     "text": [
      "첫번째 조: ['정구민', '승재홍', '이승호', '전규훈']\n",
      "두번째 조: ['김범수', '주홍찬', '이윤형', '이유빈']\n"
     ]
    }
   ],
   "source": [
    "import random\n",
    "\n",
    "members = [\n",
    "            '김범수', '이승호', '승재홍', '이유빈', \n",
    "            '이윤형', '전규훈', '정구민', '주홍찬'\n",
    "           ]\n",
    "\n",
    "random.shuffle(members)\n",
    "print(f'첫번째 조: {members[0:4]}')\n",
    "print(f'두번째 조: {members[4:8]}')"
   ]
  }
 ],
 "metadata": {
  "kernelspec": {
   "display_name": "Python 3",
   "language": "python",
   "name": "python3"
  },
  "language_info": {
   "codemirror_mode": {
    "name": "ipython",
    "version": 3
   },
   "file_extension": ".py",
   "mimetype": "text/x-python",
   "name": "python",
   "nbconvert_exporter": "python",
   "pygments_lexer": "ipython3",
   "version": "3.11.1"
  },
  "orig_nbformat": 4
 },
 "nbformat": 4,
 "nbformat_minor": 2
}
