{
 "cells": [
  {
   "cell_type": "code",
   "execution_count": null,
   "metadata": {},
   "outputs": [],
   "source": []
  },
  {
   "cell_type": "markdown",
   "metadata": {},
   "source": [
    "기초문법\n",
    "함수& 제어문\n",
    "리스트\n",
    "\n",
    "정렬  \n",
    "- 버블 정렬  \n",
    "- 카운팅 정렬  \n",
    "- 선택 정렬  \n",
    "- 퀵 정렬  \n",
    "- 삽입 정렬  \n",
    "- 병합 정렬  \n",
    "부분집합: 비트연산을 활용한.  \n",
    "탐색  \n",
    "- 이진 탐색  \n",
    "- \n",
    "완전검색  \n",
    "그리디 알고리즘  \n",
    "\n",
    "문자열  \n",
    "- 패턴 매칭\n",
    "  - 브루트 포스 알고리즘  \n",
    "  - 카프 라빈 알고리즘  \n",
    "  - KMP 알고리즘  \n",
    "  - 보이어-무어 알고리즘  \n",
    "- 문자열 암호화  \n",
    "- 문자열 압축  \n",
    "\n",
    "스택  \n",
    "- 스택  \n",
    "- 재귀호출  \n",
    "- memozation  \n",
    "- DP  \n",
    "- DPS  \n",
    "\n",
    "큐  \n",
    "\n",
    "트리  \n",
    "\n",
    "컴퓨터적 사고  \n",
    "\n",
    "완전탐색/ 그리디  \n",
    "\n",
    "분할정복/ 백트래킹  \n",
    "\n",
    "그래프\n"
   ]
  },
  {
   "cell_type": "code",
   "execution_count": null,
   "metadata": {},
   "outputs": [],
   "source": []
  }
 ],
 "metadata": {
  "language_info": {
   "name": "python"
  },
  "orig_nbformat": 4
 },
 "nbformat": 4,
 "nbformat_minor": 2
}
