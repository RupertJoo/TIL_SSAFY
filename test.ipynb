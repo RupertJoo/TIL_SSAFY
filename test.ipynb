{
 "cells": [
  {
   "cell_type": "code",
   "execution_count": 4,
   "metadata": {},
   "outputs": [
    {
     "name": "stdout",
     "output_type": "stream",
     "text": [
      "Rupert joo\n",
      "rupert joo\n",
      "rUPERT jOO\n",
      "Rupert Joo\n",
      "RUPERT JOO\n"
     ]
    }
   ],
   "source": [
    "name = \"Rupert Joo\"\n",
    "\n",
    "print(name.capitalize())\n",
    "print(name.lower())\n",
    "print(name.swapcase())\n",
    "print(name.title())\n",
    "print(name.upper())\n",
    "\n",
    "\n"
   ]
  },
  {
   "cell_type": "code",
   "execution_count": 15,
   "metadata": {},
   "outputs": [
    {
     "name": "stdout",
     "output_type": "stream",
     "text": [
      "1000000\n",
      "5 2\n",
      "0\n",
      "1\n",
      "2\n",
      "0\n",
      "4\n",
      "5\n",
      "6\n"
     ]
    }
   ],
   "source": [
    "x = 1_000_000\n",
    "y, z = divmod(17, 3)\n",
    "print(x)\n",
    "print(y, z)\n",
    "'samsung'.endswith('g')\n",
    "'samsung'.ljust(10)\n",
    "\n",
    "for i in 'samsung':\n",
    "    print('samsung'.find(i))"
   ]
  },
  {
   "cell_type": "code",
   "execution_count": null,
   "metadata": {},
   "outputs": [],
   "source": [
    "name2 = \"samsung electronics\"\n",
    "print(*list(name2))\n",
    "print(name2.count('s'))\n",
    "print(name2.find('s'))\n",
    "print(name2.find('x')) # find()는 찾는 문자가 없을 때 -1을 출력한다.\n",
    "print(name2.index('s'))\n",
    "# print(name2.index('x')) # index()는 찾는 문자가 없을 때 ValueError가 발생한다.\n",
    "print(name2.rfind('s'))\n",
    "print(name2.rindex('s'))\n",
    "print(name2.startswith('samsung'))"
   ]
  },
  {
   "cell_type": "code",
   "execution_count": 3,
   "metadata": {},
   "outputs": [
    {
     "name": "stdout",
     "output_type": "stream",
     "text": [
      "O ' e r   t h e   l a n d   o f   t h e   f r e e\n",
      "O'er the land of the free, And the home of the brave\n",
      "O'er the band of the free\n",
      "And the home of the brave\n"
     ]
    }
   ],
   "source": [
    "lyrics1 = \"O\\'er the land of the free\"\n",
    "lyrics2 = \"And the home of the brave\"\n",
    "print(' '.join(lyrics1))\n",
    "print(', '.join((lyrics1, lyrics2)))\n",
    "print(lyrics1.replace(\"land\", \"band\"))\n",
    "print(lyrics2.rstrip())"
   ]
  },
  {
   "cell_type": "markdown",
   "metadata": {},
   "source": [
    "### 오늘의 파이썬펀치: find()와 index()  \n",
    "- 두 메서드는 문자열에 포함된 문자의 인덱스를 반환한다.  \n",
    "- find()는 문자열 내에서 해당 문자를 못찾으면 -1을 반환한다  \n",
    "- 반면에 index()에서 같은 상황이 일어나면  ValueError가 발생한다.  \n",
    "\n",
    "goal = \"samsung electronics\"  \n",
    "print(goal.find('x'))  \n",
    "print(goal.index('x'))  \n",
    "\n",
    "\n"
   ]
  },
  {
   "cell_type": "code",
   "execution_count": 1,
   "metadata": {},
   "outputs": [
    {
     "name": "stdout",
     "output_type": "stream",
     "text": [
      "-1\n"
     ]
    }
   ],
   "source": [
    "goal = \"samsung electronics\"  \n",
    "print(goal.find('x'))  \n",
    "# print(goal.index('x'))"
   ]
  },
  {
   "cell_type": "code",
   "execution_count": 92,
   "metadata": {},
   "outputs": [
    {
     "name": "stdout",
     "output_type": "stream",
     "text": [
      "[1, 2, 3, 4, 5, 6, 7, 8, 9]\n",
      "[8, 6, 4, 2]\n"
     ]
    }
   ],
   "source": [
    "x=list(range(1,10))\n",
    "print(x)\n",
    "print(x[-2::-2])\n"
   ]
  },
  {
   "cell_type": "code",
   "execution_count": 102,
   "metadata": {},
   "outputs": [
    {
     "name": "stdout",
     "output_type": "stream",
     "text": [
      "012.35 000067\n",
      "00012.35 00000067\n"
     ]
    }
   ],
   "source": [
    "x = 12.345\n",
    "y = 67.89\n",
    "print('{0:06.2f} {1:06d}'.format(x,int(y)))\n",
    "print(f'{x:08.2f} {int(y):08d}')"
   ]
  },
  {
   "cell_type": "code",
   "execution_count": 103,
   "metadata": {},
   "outputs": [
    {
     "name": "stdout",
     "output_type": "stream",
     "text": [
      "seuqam\n"
     ]
    }
   ],
   "source": [
    "x = 'maques'\n",
    "print(x[::-1])"
   ]
  },
  {
   "cell_type": "code",
   "execution_count": 108,
   "metadata": {},
   "outputs": [
    {
     "data": {
      "text/plain": [
       "[1, 2, 3]"
      ]
     },
     "execution_count": 108,
     "metadata": {},
     "output_type": "execute_result"
    }
   ],
   "source": [
    "x = ['gundam', 'evangelion', 'tobot']\n",
    "x[0] = 'mazinga'\n",
    "list([1,2,3])"
   ]
  },
  {
   "cell_type": "code",
   "execution_count": 111,
   "metadata": {},
   "outputs": [
    {
     "name": "stdout",
     "output_type": "stream",
     "text": [
      "dict_keys(['피콜로', '배지터', '야무치', '부우'])\n",
      "dict_values(['나메크인', '사이어인', '지구인', '마인'])\n",
      "dict_items([('피콜로', '나메크인'), ('배지터', '사이어인'), ('야무치', '지구인'), ('부우', '마인')])\n"
     ]
    }
   ],
   "source": [
    "x = {\"피콜로\":\"나메크인\",\"배지터\":\"사이어인\",\"야무치\":\"지구인\",\"부우\":\"마인\"}\n",
    "print(x.keys())\n",
    "print(x.values())\n",
    "print(x.items())"
   ]
  },
  {
   "cell_type": "code",
   "execution_count": 114,
   "metadata": {},
   "outputs": [
    {
     "name": "stdout",
     "output_type": "stream",
     "text": [
      "x의 길이는 10입니다.\n"
     ]
    }
   ],
   "source": [
    "x = list(range(10))\n",
    "if (n := len(x)) > 8:\n",
    "    print(f'x의 길이는 {n}입니다.')\n"
   ]
  },
  {
   "cell_type": "code",
   "execution_count": 123,
   "metadata": {},
   "outputs": [
    {
     "name": "stdout",
     "output_type": "stream",
     "text": [
      "인수 x에 해병이 들어가면 기합, 아니면 기열을 출력하는 함수\n",
      "기합!! 기열!!\n"
     ]
    }
   ],
   "source": [
    "def is_marine(x):\n",
    "    \"인수 x에 해병이 들어가면 기합, 아니면 기열을 출력하는 함수\"\n",
    "    if '해병' in x:\n",
    "        return '기합!!'\n",
    "    else:\n",
    "        return '기열!!'\n",
    "    \n",
    "gc = is_marine('황근출해병님')\n",
    "dragon = is_marine('기열찐빠황룡새끼')\n",
    "print(is_marine.__doc__)\n",
    "print(gc, dragon)"
   ]
  },
  {
   "cell_type": "code",
   "execution_count": 128,
   "metadata": {},
   "outputs": [
    {
     "name": "stdout",
     "output_type": "stream",
     "text": [
      "<generator object yield_lyrics at 0x0000016913F1F740>\n",
      "천방지축\n",
      "어리둥절\n",
      "빙글빙글\n",
      "돌아가는\n",
      "짱구의 하루\n",
      "##\n"
     ]
    }
   ],
   "source": [
    "def yield_lyrics():\n",
    "    yield \"천방지축\"\n",
    "    yield \"어리둥절\"\n",
    "    yield \"빙글빙글\"\n",
    "    yield \"돌아가는\"\n",
    "    yield \"짱구의 하루\"\n",
    "\n",
    "x = yield_lyrics()\n",
    "print(x)\n",
    "for i in x:\n",
    "    print(i)\n",
    "print('##')\n",
    "for j in x:\n",
    "    print(j)"
   ]
  },
  {
   "cell_type": "code",
   "execution_count": 43,
   "metadata": {},
   "outputs": [
    {
     "name": "stdout",
     "output_type": "stream",
     "text": [
      "BANAPRESSO LATTE\n",
      "False\n",
      "banapresso latte\n",
      "False\n",
      "False\n",
      "True\n",
      "True\n",
      "Banapresso Latte\n"
     ]
    }
   ],
   "source": [
    "x = 'Banapresso Latte'\n",
    "print(x.upper())\n",
    "print(x.isupper())\n",
    "print(x.lower())\n",
    "print(x.islower())\n",
    "print(x.isalpha())\n",
    "print(''.join(x.split()).isalpha())\n",
    "print(x.istitle())\n"
   ]
  },
  {
   "cell_type": "code",
   "execution_count": 53,
   "metadata": {},
   "outputs": [
    {
     "data": {
      "text/plain": [
       "['P', 'i', 'r', 'e', 'p', 'u', 'n', 'c', 'h']"
      ]
     },
     "execution_count": 53,
     "metadata": {},
     "output_type": "execute_result"
    }
   ],
   "source": [
    "x = 'firepunch'\n",
    "y = list(x)\n",
    "y[0:1] = 'P'\n",
    "y\n"
   ]
  },
  {
   "cell_type": "code",
   "execution_count": 58,
   "metadata": {},
   "outputs": [
    {
     "data": {
      "text/plain": [
       "'XamXung electronics'"
      ]
     },
     "execution_count": 58,
     "metadata": {},
     "output_type": "execute_result"
    }
   ],
   "source": [
    "x = 'samsung electronics'\n",
    "x.replace('s','X',2)"
   ]
  },
  {
   "cell_type": "code",
   "execution_count": 69,
   "metadata": {},
   "outputs": [
    {
     "name": "stdout",
     "output_type": "stream",
     "text": [
      "[1, 2, 3, 4]\n",
      "[1, 2, 3, 4, 5]\n",
      "[0, 1, 2, 3, 4, 5]\n",
      "[]\n"
     ]
    }
   ],
   "source": [
    "x = [1,2,3]\n",
    "x.append(4)\n",
    "print(x)\n",
    "x.extend([5])\n",
    "print(x)\n",
    "x.insert(0,0)\n",
    "print(x)\n",
    "x.clear()\n",
    "print(x)\n",
    "\n",
    "# print(x := x.extend([5]))"
   ]
  },
  {
   "cell_type": "code",
   "execution_count": 78,
   "metadata": {},
   "outputs": [
    {
     "name": "stdout",
     "output_type": "stream",
     "text": [
      "15\n",
      "12\n"
     ]
    }
   ],
   "source": [
    "print(15 or 12)\n",
    "print(15 and 12)"
   ]
  },
  {
   "cell_type": "code",
   "execution_count": 84,
   "metadata": {},
   "outputs": [
    {
     "data": {
      "text/plain": [
       "{1, 2, 3, 4, 8, 9}"
      ]
     },
     "execution_count": 84,
     "metadata": {},
     "output_type": "execute_result"
    }
   ],
   "source": [
    "x = {1,2,3}\n",
    "x.add(4)\n",
    "x.update((5,6,7))\n",
    "y = set(range(5,10))\n",
    "x ^ y"
   ]
  },
  {
   "cell_type": "code",
   "execution_count": null,
   "metadata": {},
   "outputs": [],
   "source": [
    "help(hash)"
   ]
  },
  {
   "cell_type": "code",
   "execution_count": 97,
   "metadata": {},
   "outputs": [
    {
     "name": "stdout",
     "output_type": "stream",
     "text": [
      "None\n",
      "1\n",
      "99\n",
      "{'b': 2, 'c': 99}\n",
      "{'b': 2, 'c': 99}\n",
      "None\n",
      "{'b': 2, 'c': 77}\n",
      "{'b': 2, 'c': 0, 'f': -7, 'g': 36}\n"
     ]
    }
   ],
   "source": [
    "x = {'a':1,'b':2}\n",
    "print(x.get('c'))\n",
    "print(x.pop('a'))\n",
    "print(x.setdefault('c',99))\n",
    "print(x)\n",
    "print(x)\n",
    "print(x.update({'c':77}))\n",
    "print(x)\n",
    "x.update({'c':0, 'f':-7, 'g':36})\n",
    "print(x)"
   ]
  },
  {
   "cell_type": "code",
   "execution_count": 106,
   "metadata": {},
   "outputs": [
    {
     "name": "stdout",
     "output_type": "stream",
     "text": [
      "3\n",
      "6\n",
      "9\n",
      "3 6 9\n"
     ]
    }
   ],
   "source": [
    "x = {1:3,3:6,5:9}\n",
    "for i in x.values():\n",
    "    print(i)\n",
    "def xxx(x,y,z):\n",
    "    print(x,y,z)\n",
    "    \n",
    "xxx(*x.values())\n"
   ]
  },
  {
   "cell_type": "code",
   "execution_count": 104,
   "metadata": {},
   "outputs": [
    {
     "data": {
      "text/plain": [
       "0"
      ]
     },
     "execution_count": 104,
     "metadata": {},
     "output_type": "execute_result"
    }
   ],
   "source": [
    "x= "
   ]
  },
  {
   "cell_type": "code",
   "execution_count": null,
   "metadata": {},
   "outputs": [],
   "source": [
    "import requests\n",
    "from pprint import pprint as pprint\n",
    "\n",
    "API_URL = 'https://jsonplaceholder.typicode.com/users/1\n"
   ]
  }
 ],
 "metadata": {
  "kernelspec": {
   "display_name": "Python 3",
   "language": "python",
   "name": "python3"
  },
  "language_info": {
   "codemirror_mode": {
    "name": "ipython",
    "version": 3
   },
   "file_extension": ".py",
   "mimetype": "text/x-python",
   "name": "python",
   "nbconvert_exporter": "python",
   "pygments_lexer": "ipython3",
   "version": "3.11.1"
  },
  "orig_nbformat": 4
 },
 "nbformat": 4,
 "nbformat_minor": 2
}
