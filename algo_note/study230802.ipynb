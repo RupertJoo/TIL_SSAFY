{
 "cells": [
  {
   "cell_type": "code",
   "execution_count": 9,
   "metadata": {},
   "outputs": [
    {
     "name": "stdout",
     "output_type": "stream",
     "text": [
      "1 1 2 2 2 3 3 4 4 4 5 5 5 5 6 6 6 7 7 8 8 8 9 9 "
     ]
    }
   ],
   "source": [
    "x = [[1, 2, 3], [4, 5, 6], [7, 8, 9]]\n",
    "\n",
    "list_di = [0, 1, 0, -1]\n",
    "list_dj = [1, 0, -1, 0]\n",
    "\n",
    "dij = list(zip(list_di,list_dj))\n",
    "for i in range(3):\n",
    "    for j in range(3):\n",
    "        for di, dj in dij:\n",
    "            ni = i + di\n",
    "            nj = j + dj\n",
    "            if 0 <= ni < 3 and 0 <= nj < 3:\n",
    "                print(x[i][j], end = ' ')\n"
   ]
  },
  {
   "cell_type": "markdown",
   "metadata": {},
   "source": []
  }
 ],
 "metadata": {
  "kernelspec": {
   "display_name": "Python 3",
   "language": "python",
   "name": "python3"
  },
  "language_info": {
   "codemirror_mode": {
    "name": "ipython",
    "version": 3
   },
   "file_extension": ".py",
   "mimetype": "text/x-python",
   "name": "python",
   "nbconvert_exporter": "python",
   "pygments_lexer": "ipython3",
   "version": "3.9.13"
  },
  "orig_nbformat": 4
 },
 "nbformat": 4,
 "nbformat_minor": 2
}
